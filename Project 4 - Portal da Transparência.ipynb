{
 "cells": [
  {
   "cell_type": "markdown",
   "metadata": {},
   "source": [
    "### <center>Universidade Federal do Rio Grande do Norte<br>Programa de Pós-Graduação em Engenharia Elétrica e Computação<br>Module: Data Science (Tópicos Especiais F)<br>Professor Ivanovitch Silva\n",
    "\n",
    "### <center> Students: Marianne Diniz / Taline Nóbrega"
   ]
  },
  {
   "cell_type": "markdown",
   "metadata": {},
   "source": [
    "## <center> Project 4: Portal da Transparência"
   ]
  },
  {
   "cell_type": "markdown",
   "metadata": {},
   "source": [
    "## 1. Introduction\n",
    "\n",
    "This is a guided project focused on scrapping multiple web pages with Python using [BeautifulSoup](https://www.crummy.com/software/BeautifulSoup/) and [requests](http://docs.python-requests.org/en/master/). It was also performed some simple analysis using [pandas](http://pandas.pydata.org/), and [seaborn](https://seaborn.pydata.org/)."
   ]
  },
  {
   "cell_type": "markdown",
   "metadata": {},
   "source": [
    "## 2. Objectives\n",
    "\n",
    "This project aims to analyze the gender of all UFRN employees' name by web scraping the list presented on [Portal da Transparência](http://www.portaldatransparencia.gov.br/) website. Portal da Transparência is a Brazilian government portal dedicated to making public all expenditures of the federal government. It has a list of all expenses and money transfers the federal government has made. \n",
    "In order to classify the names into 'male' and 'female', it was suggested to use some applications/API/packages, which are discussed and presented in the following sections."
   ]
  },
  {
   "cell_type": "markdown",
   "metadata": {},
   "source": [
    "## 3. Code"
   ]
  },
  {
   "cell_type": "markdown",
   "metadata": {},
   "source": [
    "### 3.1 Collecting the list of names using web scraping tools"
   ]
  },
  {
   "cell_type": "markdown",
   "metadata": {},
   "source": [
    "The data used in this project was obtained from web scraping Portal da Transferência webpage. In order to satisfy the objectives, the page analyzed was that present the list of employees who work at UFRN (Universidade Federal do Rio Grande do Norte). Available on this [link](http://www.portaldatransparencia.gov.br/servidores/OrgaoExercicio-ListaServidores.asp?CodOrg=26243). This page provides a list of all UFRN's employees, which results in 6183 people. The employee's names are distributed in **413 pages**\n",
    "This web scraping should result in a list of names. The following code pretends to do that."
   ]
  },
  {
   "cell_type": "code",
   "execution_count": 5,
   "metadata": {
    "collapsed": true
   },
   "outputs": [],
   "source": [
    "from bs4 import BeautifulSoup\n",
    "from time import sleep\n",
    "from random import randint\n",
    "from time import time\n",
    "from warnings import warn\n",
    "from IPython.core.display import clear_output\n",
    "from requests import get\n",
    "import pandas as pd\n",
    "import rpy2.robjects as robjects\n",
    "import requests as requests\n",
    "import matplotlib.pyplot as plt"
   ]
  },
  {
   "cell_type": "code",
   "execution_count": null,
   "metadata": {
    "collapsed": true
   },
   "outputs": [],
   "source": [
    "pages = [str(i) for i in range(1,414)] # number of pages - 413\n",
    "\n",
    "# List to store the scraped data in\n",
    "names = []\n",
    "\n",
    "# Preparing the monitoring of the loop\n",
    "start_time = time()\n",
    "requests = 0\n",
    "\n",
    "# For each page\n",
    "for page in pages:\n",
    "      \n",
    "    #url \n",
    "    url = 'http://www.portaldatransparencia.gov.br/servidores/\\\n",
    "           OrgaoExercicio-ListaServidores.asp?CodOrg=26243&Pagina={}'.format(page).replace(\" \", \"\")\n",
    "        \n",
    "    # Make a get request\n",
    "    response = get(url)\n",
    "        \n",
    "    # Pause the loop\n",
    "    #\n",
    "    \n",
    "    # Monitor the requests - Controlling the loop’s rate to avoid bombarding the server with requests\n",
    "    requests += 1\n",
    "    elapsed_time = time() - start_time\n",
    "    print('Request:{}; Frequency: {} requests/s'.format(requests, requests/elapsed_time))\n",
    "    clear_output(wait = True)\n",
    "              \n",
    "    # Throw a warning for non-200 status codes\n",
    "    while response.status_code != 200:\n",
    "        warn('Request: {}; Status code: {}'.format(requests, response.status_code))\n",
    "        sleep(randint(5,10))\n",
    "        response = request.get(url)\n",
    "    \n",
    "    sleep(randint(5,10))    \n",
    "    html_soup = BeautifulSoup(response.text, 'html.parser')\n",
    "    unit_table = html_soup.find_all('table')\n",
    "\n",
    "    # the second one is the target\n",
    "    unit_rows  = unit_table[1].find_all('tr')\n",
    "    unit_rows = unit_rows[1:]\n",
    "    \n",
    "    # Extract data from individual ies rows\n",
    "    for row in unit_rows:\n",
    "        # employees' names\n",
    "        name = row.find('a')\n",
    "        if name is not None:\n",
    "            name = name.text.strip()\n",
    "            names.append(name)"
   ]
  },
  {
   "cell_type": "code",
   "execution_count": null,
   "metadata": {
    "collapsed": true
   },
   "outputs": [],
   "source": [
    "# Checking the data collected\n",
    "web_scraping_df = pd.DataFrame({'UFRN_employees_name': names})\n",
    "print(web_scraping_df.info())"
   ]
  },
  {
   "cell_type": "code",
   "execution_count": null,
   "metadata": {
    "collapsed": true
   },
   "outputs": [],
   "source": [
    "# Creating a csv file with the data collected \n",
    "web_scraping_df.to_csv('UFRN_employees_name.csv')"
   ]
  },
  {
   "cell_type": "markdown",
   "metadata": {},
   "source": [
    "### 3.2 Defining the gender of the name"
   ]
  },
  {
   "cell_type": "markdown",
   "metadata": {
    "collapsed": true
   },
   "source": [
    "So, after web scraping Portal da Trasnparência website we have all UFRN employees name organized in a list of 6138 names. To verify which name corresponds to a female or male name, we need to use some tool. The activity proposed the following options. Each one has their specific advantage.\n",
    "\n",
    "    - https://www.dicionariodenomesproprios.com.br/\n",
    "    - https://gender-api.com/\n",
    "    - https://pypi.python.org/pypi/Genderize\n",
    "    - http://fmeireles.com/blog/rstats/genderbr-predizer-sexo\n",
    "\n",
    "After analyzing all options, we decided to use the package called [genderBR](http://fmeireles.com/blog/rstats/genderbr-predizer-sexo) using [RStudio](https://anaconda.org/r/rstudio) application.\n",
    "\n",
    "The genderBR package for R is useful to predict the sex of a person using their proper name. This prediction is based on [IBGE](https://www.ibge.gov.br) Census conducted in 2010 and it works as the following example: according to the Census the name João is mostly used by men in Brazil, so we are confident that all people named João are men. Therefore, we can consider the name João as a male name.\n",
    "\n",
    "This method is replicable, based on public data and it is much faster than manual classification. Thus, it was our first choice to predict the gender of the names."
   ]
  },
  {
   "cell_type": "markdown",
   "metadata": {},
   "source": [
    "   ### 3.2.1 Using R with Jupyter [genderBR]\n",
    "   \n",
    "In order to use genderBR package it is necessary to run R in Jupyter.There are two general ways to get started on using R with Jupyter: by using a kernel or by setting up an R environment that has all the essential tools to get started on doing data science. These processes are described in this interesting [post](https://www.datacamp.com/community/blog/jupyter-notebook-r).\n",
    "\n",
    "Basically, after installing all packages we installed RStudio through Anaconda and genderBR through RStudio console. Then, we were able to run R commands. \n",
    "\n",
    "To switch from Python to R, we downloaded the following package:"
   ]
  },
  {
   "cell_type": "code",
   "execution_count": 1,
   "metadata": {
    "collapsed": true
   },
   "outputs": [],
   "source": [
    "# it's necessary to import rpy2.robjects as robjects to load this package\n",
    "%load_ext rpy2.ipython "
   ]
  },
  {
   "cell_type": "markdown",
   "metadata": {},
   "source": [
    "After that, we easily switched from Python to R with the **%R** magic command.\n",
    "\n",
    "Loading genderBR package:"
   ]
  },
  {
   "cell_type": "code",
   "execution_count": 2,
   "metadata": {
    "collapsed": true
   },
   "outputs": [],
   "source": [
    "%%R\n",
    "library(genderBR)"
   ]
  },
  {
   "cell_type": "markdown",
   "metadata": {},
   "source": [
    "The genderBR package has a main function called **get_gender** that predicts the gender of a person based on their first name (with or without capital letters, accents and last names).\n",
    "\n",
    "Using get_gender function to analyze the list of names that we got previously"
   ]
  },
  {
   "cell_type": "code",
   "execution_count": null,
   "metadata": {
    "collapsed": true
   },
   "outputs": [],
   "source": [
    "# Reading the csv file\n",
    "UFRN_employess_name = pd.read_csv('UFRN_employees_name.csv')\n",
    "# Renaming the columns \n",
    "UFRN_employess_name.columns = ['','Name']\n",
    "# Creating a list to append the guessed gender\n",
    "guessed_gender = [] \n",
    "i=0\n",
    "for name in UFRN_employess_name.Name:\n",
    "    gender = robjects.r.get_gender(name)\n",
    "    gender = gender.r_repr()\n",
    "    gender = gender.strip('\\\"')\n",
    "    guessed_gender.append(gender) \n",
    "\n",
    "# Creating a new column named Gender\n",
    "UFRN_employess_name ['Gender'] = 0\n",
    "# Appending guessed_gender to the new column\n",
    "UFRN_employess_name.Gender = guessed_gender"
   ]
  },
  {
   "cell_type": "markdown",
   "metadata": {},
   "source": [
    "Analyzing the result obtained from get_gender function"
   ]
  },
  {
   "cell_type": "code",
   "execution_count": null,
   "metadata": {
    "collapsed": true
   },
   "outputs": [],
   "source": [
    "UFRN_employess_name"
   ]
  },
  {
   "cell_type": "markdown",
   "metadata": {},
   "source": [
    "Verifying how many male and female the function get_gender returned"
   ]
  },
  {
   "cell_type": "code",
   "execution_count": 24,
   "metadata": {},
   "outputs": [
    {
     "data": {
      "text/plain": [
       "Male             3019\n",
       "Female           2825\n",
       "NA                252\n",
       "NA_character_      87\n",
       "Name: Gender, dtype: int64"
      ]
     },
     "execution_count": 24,
     "metadata": {},
     "output_type": "execute_result"
    }
   ],
   "source": [
    "UFRN_employess_name.Gender.value_counts()"
   ]
  },
  {
   "cell_type": "markdown",
   "metadata": {},
   "source": [
    "The results were quite good. 3019 names were classified as male name and 2825 were considered a female name. Only 339 names did not receive any classification.\n",
    "\n",
    "### 3.2.2 Using Gender API\n",
    "\n",
    "In order to perform a better analysis and to reduce the quantity of names without classification, it was applied other classification method. From the options presented previously, we decided to use [Gender API](https://gender-api.com/). This API allows us to perform 500 requests per month by using a private server key. So, we could apply it to verify the 339 names without classification."
   ]
  },
  {
   "cell_type": "code",
   "execution_count": 119,
   "metadata": {
    "collapsed": true
   },
   "outputs": [],
   "source": [
    "# Creating a list with all names without classification\n",
    "names_NA = UFRN_employess_name[(UFRN_employess_name['Gender']=='NA')|(UFRN_employess_name['Gender']=='NA_character_')]\n",
    "\n",
    "# Splitting the name. Gender API just recognize one name\n",
    "first_name = []\n",
    "for i in range (0,339):\n",
    "    fn = names_NA.Name.iloc[i].split()[0]\n",
    "    first_name.append(fn)\n",
    "\n",
    "# Using Gender API to classify the names in first_name list    \n",
    "# key = HQsGtBZeRMkTzqLEf\n",
    "gender_api=[]\n",
    "for n in first_name:\n",
    "    r = requests.get('https://gender-api.com/get?name={}&country=BR&key=xHQsGtBZeRMkTzqLEf'.format(n)).json().get('gender')\n",
    "    r = r.capitalize()\n",
    "    gender_api.append(r)\n",
    "\n",
    "# Associating the results obtained to names_NA\n",
    "names_NA.Gender = gender_api"
   ]
  },
  {
   "cell_type": "code",
   "execution_count": 124,
   "metadata": {},
   "outputs": [
    {
     "data": {
      "text/plain": [
       "Unknown    200\n",
       "Male        72\n",
       "Female      67\n",
       "Name: Gender, dtype: int64"
      ]
     },
     "execution_count": 124,
     "metadata": {},
     "output_type": "execute_result"
    }
   ],
   "source": [
    "names_NA.Gender.value_counts()"
   ]
  },
  {
   "cell_type": "code",
   "execution_count": null,
   "metadata": {
    "collapsed": true
   },
   "outputs": [],
   "source": [
    "# Aggregating the content of names_NA into our main dataframe UFRN_employess_name\n",
    "names_NA = UFRN_employess_name[(UFRN_employess_name['Gender']=='NA')|(UFRN_employess_name['Gender']=='NA_character_')]\n",
    "\n",
    "for i in range (0,6183):\n",
    "    if (UFRN_employess_name.Gender.iloc[i] == 'NA')|(UFRN_employess_name.Gender.iloc[i] =='NA_character_'):\n",
    "        gender_api = names_NA.Gender.loc[i]\n",
    "        UFRN_employess_name.Gender.loc[i] = gender_api"
   ]
  },
  {
   "cell_type": "code",
   "execution_count": 178,
   "metadata": {},
   "outputs": [
    {
     "data": {
      "text/plain": [
       "Male       3091\n",
       "Female     2892\n",
       "Unknown     200\n",
       "Name: Gender, dtype: int64"
      ]
     },
     "execution_count": 178,
     "metadata": {},
     "output_type": "execute_result"
    }
   ],
   "source": [
    "UFRN_employess_name.Gender.value_counts()"
   ]
  },
  {
   "cell_type": "markdown",
   "metadata": {},
   "source": [
    "As a result, we reduced the number of unclassified names to 200 using Gender API. The names without classification is shown in the following cell."
   ]
  },
  {
   "cell_type": "code",
   "execution_count": 180,
   "metadata": {},
   "outputs": [
    {
     "data": {
      "text/html": [
       "<div>\n",
       "<style>\n",
       "    .dataframe thead tr:only-child th {\n",
       "        text-align: right;\n",
       "    }\n",
       "\n",
       "    .dataframe thead th {\n",
       "        text-align: left;\n",
       "    }\n",
       "\n",
       "    .dataframe tbody tr th {\n",
       "        vertical-align: top;\n",
       "    }\n",
       "</style>\n",
       "<table border=\"1\" class=\"dataframe\">\n",
       "  <thead>\n",
       "    <tr style=\"text-align: right;\">\n",
       "      <th></th>\n",
       "      <th></th>\n",
       "      <th>Name</th>\n",
       "      <th>Gender</th>\n",
       "    </tr>\n",
       "  </thead>\n",
       "  <tbody>\n",
       "    <tr>\n",
       "      <th>8</th>\n",
       "      <td>8</td>\n",
       "      <td>ACYNELLY DAFNE DA SILVA NUNES</td>\n",
       "      <td>Unknown</td>\n",
       "    </tr>\n",
       "    <tr>\n",
       "      <th>39</th>\n",
       "      <td>39</td>\n",
       "      <td>ADENYLZA FLAVIA ALVES DE PAIVA</td>\n",
       "      <td>Unknown</td>\n",
       "    </tr>\n",
       "    <tr>\n",
       "      <th>50</th>\n",
       "      <td>50</td>\n",
       "      <td>ADLAREG AUREA DA COSTA DUTRA</td>\n",
       "      <td>Unknown</td>\n",
       "    </tr>\n",
       "    <tr>\n",
       "      <th>129</th>\n",
       "      <td>129</td>\n",
       "      <td>AKALINE DANTAS DE ARAUJO</td>\n",
       "      <td>Unknown</td>\n",
       "    </tr>\n",
       "    <tr>\n",
       "      <th>142</th>\n",
       "      <td>142</td>\n",
       "      <td>ALBANYRA DOS SANTOS SOUZA</td>\n",
       "      <td>Unknown</td>\n",
       "    </tr>\n",
       "    <tr>\n",
       "      <th>269</th>\n",
       "      <td>269</td>\n",
       "      <td>ALTAIVA JALES COSTA SOUZA</td>\n",
       "      <td>Unknown</td>\n",
       "    </tr>\n",
       "    <tr>\n",
       "      <th>282</th>\n",
       "      <td>282</td>\n",
       "      <td>ALVESSENA ALVES DE OLIVEIRA</td>\n",
       "      <td>Unknown</td>\n",
       "    </tr>\n",
       "    <tr>\n",
       "      <th>288</th>\n",
       "      <td>288</td>\n",
       "      <td>ALZIVANY ALVES DE MOURA FERNANDES</td>\n",
       "      <td>Unknown</td>\n",
       "    </tr>\n",
       "    <tr>\n",
       "      <th>289</th>\n",
       "      <td>289</td>\n",
       "      <td>AMADJA HENRIQUE BORGES</td>\n",
       "      <td>Unknown</td>\n",
       "    </tr>\n",
       "    <tr>\n",
       "      <th>290</th>\n",
       "      <td>290</td>\n",
       "      <td>AMALUSIA OLIVEIRA BEZERRA DE ARAUJO</td>\n",
       "      <td>Unknown</td>\n",
       "    </tr>\n",
       "    <tr>\n",
       "      <th>321</th>\n",
       "      <td>321</td>\n",
       "      <td>AMOYSA ARAUJO RIBEIRO</td>\n",
       "      <td>Unknown</td>\n",
       "    </tr>\n",
       "    <tr>\n",
       "      <th>470</th>\n",
       "      <td>470</td>\n",
       "      <td>ANDIERISON MACEDO DE FARIAS</td>\n",
       "      <td>Unknown</td>\n",
       "    </tr>\n",
       "    <tr>\n",
       "      <th>554</th>\n",
       "      <td>554</td>\n",
       "      <td>ANELLYSA PEREIRA CAVALCANTE DE ARAUJO</td>\n",
       "      <td>Unknown</td>\n",
       "    </tr>\n",
       "    <tr>\n",
       "      <th>672</th>\n",
       "      <td>672</td>\n",
       "      <td>ANTONNYO PALMIELLY DIOGENES LIMA</td>\n",
       "      <td>Unknown</td>\n",
       "    </tr>\n",
       "    <tr>\n",
       "      <th>676</th>\n",
       "      <td>676</td>\n",
       "      <td>APUENA VIEIRA GOMES</td>\n",
       "      <td>Unknown</td>\n",
       "    </tr>\n",
       "    <tr>\n",
       "      <th>680</th>\n",
       "      <td>680</td>\n",
       "      <td>ARETHE MARIA SILVA DE ARAUJO ASSUNCAO</td>\n",
       "      <td>Unknown</td>\n",
       "    </tr>\n",
       "    <tr>\n",
       "      <th>708</th>\n",
       "      <td>708</td>\n",
       "      <td>ARRHENIUS VINICIUS DA COSTA OLIVEIRA</td>\n",
       "      <td>Unknown</td>\n",
       "    </tr>\n",
       "    <tr>\n",
       "      <th>711</th>\n",
       "      <td>711</td>\n",
       "      <td>ARTEJOSE REVOREDO DA SILVA</td>\n",
       "      <td>Unknown</td>\n",
       "    </tr>\n",
       "    <tr>\n",
       "      <th>730</th>\n",
       "      <td>730</td>\n",
       "      <td>ASKERY ALEXANDRE CANABARRO BARBOSA DA SILVA</td>\n",
       "      <td>Unknown</td>\n",
       "    </tr>\n",
       "    <tr>\n",
       "      <th>733</th>\n",
       "      <td>733</td>\n",
       "      <td>AUDINEZ BARRETO ARAUJO</td>\n",
       "      <td>Unknown</td>\n",
       "    </tr>\n",
       "    <tr>\n",
       "      <th>739</th>\n",
       "      <td>739</td>\n",
       "      <td>AUNIEBSON DE OLIVEIRA FREIRE</td>\n",
       "      <td>Unknown</td>\n",
       "    </tr>\n",
       "    <tr>\n",
       "      <th>743</th>\n",
       "      <td>743</td>\n",
       "      <td>AURIGENA ANTUNES DE ARAUJO</td>\n",
       "      <td>Unknown</td>\n",
       "    </tr>\n",
       "    <tr>\n",
       "      <th>746</th>\n",
       "      <td>746</td>\n",
       "      <td>AUXINILDO DE MELO MARTINS</td>\n",
       "      <td>Unknown</td>\n",
       "    </tr>\n",
       "    <tr>\n",
       "      <th>747</th>\n",
       "      <td>747</td>\n",
       "      <td>AUZELIVIA PASTORA REGO MEDEIROS FALCAO</td>\n",
       "      <td>Unknown</td>\n",
       "    </tr>\n",
       "    <tr>\n",
       "      <th>766</th>\n",
       "      <td>766</td>\n",
       "      <td>BARNORA THERESA DANTAS</td>\n",
       "      <td>Unknown</td>\n",
       "    </tr>\n",
       "    <tr>\n",
       "      <th>818</th>\n",
       "      <td>818</td>\n",
       "      <td>BRUNILLA THAIS QUEIROZ DE MELO</td>\n",
       "      <td>Unknown</td>\n",
       "    </tr>\n",
       "    <tr>\n",
       "      <th>1028</th>\n",
       "      <td>1028</td>\n",
       "      <td>CHIANC LEOCADIO DE LIMA</td>\n",
       "      <td>Unknown</td>\n",
       "    </tr>\n",
       "    <tr>\n",
       "      <th>1034</th>\n",
       "      <td>1034</td>\n",
       "      <td>CHRISTOMYSLLEY ROMEIRO DA SILVA</td>\n",
       "      <td>Unknown</td>\n",
       "    </tr>\n",
       "    <tr>\n",
       "      <th>1049</th>\n",
       "      <td>1049</td>\n",
       "      <td>CICLAMIO LEITE BARRETO</td>\n",
       "      <td>Unknown</td>\n",
       "    </tr>\n",
       "    <tr>\n",
       "      <th>1051</th>\n",
       "      <td>1051</td>\n",
       "      <td>CIJARA LEONICE DE FREITAS</td>\n",
       "      <td>Unknown</td>\n",
       "    </tr>\n",
       "    <tr>\n",
       "      <th>...</th>\n",
       "      <td>...</td>\n",
       "      <td>...</td>\n",
       "      <td>...</td>\n",
       "    </tr>\n",
       "    <tr>\n",
       "      <th>5673</th>\n",
       "      <td>5673</td>\n",
       "      <td>SISLLEY MADSON DA SILVA BARRETO</td>\n",
       "      <td>Unknown</td>\n",
       "    </tr>\n",
       "    <tr>\n",
       "      <th>5680</th>\n",
       "      <td>5680</td>\n",
       "      <td>SONAYDY LYANY DANTAS</td>\n",
       "      <td>Unknown</td>\n",
       "    </tr>\n",
       "    <tr>\n",
       "      <th>5681</th>\n",
       "      <td>5681</td>\n",
       "      <td>SONEMY VIEIRA DE ASSUNCAO PAIVA</td>\n",
       "      <td>Unknown</td>\n",
       "    </tr>\n",
       "    <tr>\n",
       "      <th>5689</th>\n",
       "      <td>5689</td>\n",
       "      <td>SORANEIDE SOARES DANTAS</td>\n",
       "      <td>Unknown</td>\n",
       "    </tr>\n",
       "    <tr>\n",
       "      <th>5700</th>\n",
       "      <td>5700</td>\n",
       "      <td>STHONE ARRUDA NEVES RAMALHO</td>\n",
       "      <td>Unknown</td>\n",
       "    </tr>\n",
       "    <tr>\n",
       "      <th>5701</th>\n",
       "      <td>5701</td>\n",
       "      <td>SUEILHA FERREIRA DE ANDRADE DE PAULA</td>\n",
       "      <td>Unknown</td>\n",
       "    </tr>\n",
       "    <tr>\n",
       "      <th>5724</th>\n",
       "      <td>5724</td>\n",
       "      <td>SUZERICA HELENA DE MOURA MAFRA</td>\n",
       "      <td>Unknown</td>\n",
       "    </tr>\n",
       "    <tr>\n",
       "      <th>5731</th>\n",
       "      <td>5731</td>\n",
       "      <td>TAANAKE MATHIAS SOARES BATISTA</td>\n",
       "      <td>Unknown</td>\n",
       "    </tr>\n",
       "    <tr>\n",
       "      <th>5758</th>\n",
       "      <td>5758</td>\n",
       "      <td>TANIRO CHACON RODRIGUES</td>\n",
       "      <td>Unknown</td>\n",
       "    </tr>\n",
       "    <tr>\n",
       "      <th>5760</th>\n",
       "      <td>5760</td>\n",
       "      <td>TARCIRO NORTARSON CHAVES MENDES</td>\n",
       "      <td>Unknown</td>\n",
       "    </tr>\n",
       "    <tr>\n",
       "      <th>5839</th>\n",
       "      <td>5839</td>\n",
       "      <td>THAZIO HENRIQUE SOARES CARDOSO DE SOUZA</td>\n",
       "      <td>Unknown</td>\n",
       "    </tr>\n",
       "    <tr>\n",
       "      <th>5840</th>\n",
       "      <td>5840</td>\n",
       "      <td>THECYUS BENICIO NUNES DE MELO</td>\n",
       "      <td>Unknown</td>\n",
       "    </tr>\n",
       "    <tr>\n",
       "      <th>5909</th>\n",
       "      <td>5909</td>\n",
       "      <td>UILIETE MARCIA SILVA DE MENDONCA PEREIRA</td>\n",
       "      <td>Unknown</td>\n",
       "    </tr>\n",
       "    <tr>\n",
       "      <th>5949</th>\n",
       "      <td>5949</td>\n",
       "      <td>VALTEMIA PORPINO GOMES COSTA</td>\n",
       "      <td>Unknown</td>\n",
       "    </tr>\n",
       "    <tr>\n",
       "      <th>5953</th>\n",
       "      <td>5953</td>\n",
       "      <td>VANCI DA COSTA MARTINS</td>\n",
       "      <td>Unknown</td>\n",
       "    </tr>\n",
       "    <tr>\n",
       "      <th>5958</th>\n",
       "      <td>5958</td>\n",
       "      <td>VANDINER RIBEIRO</td>\n",
       "      <td>Unknown</td>\n",
       "    </tr>\n",
       "    <tr>\n",
       "      <th>6061</th>\n",
       "      <td>6061</td>\n",
       "      <td>WADLEIGHN ALVES SARAIVA</td>\n",
       "      <td>Unknown</td>\n",
       "    </tr>\n",
       "    <tr>\n",
       "      <th>6069</th>\n",
       "      <td>6069</td>\n",
       "      <td>WALANNE KARLA CAMPOS DUARTE COSTA</td>\n",
       "      <td>Unknown</td>\n",
       "    </tr>\n",
       "    <tr>\n",
       "      <th>6080</th>\n",
       "      <td>6080</td>\n",
       "      <td>WALNESIA DUARTE DO NASCIMENTO</td>\n",
       "      <td>Unknown</td>\n",
       "    </tr>\n",
       "    <tr>\n",
       "      <th>6081</th>\n",
       "      <td>6081</td>\n",
       "      <td>WALTECA LOUIS LIMA DA SILVEIRA</td>\n",
       "      <td>Unknown</td>\n",
       "    </tr>\n",
       "    <tr>\n",
       "      <th>6120</th>\n",
       "      <td>6120</td>\n",
       "      <td>WILACI EUTROPIO FERNANDES JUNIOR</td>\n",
       "      <td>Unknown</td>\n",
       "    </tr>\n",
       "    <tr>\n",
       "      <th>6139</th>\n",
       "      <td>6139</td>\n",
       "      <td>WILSYNNARA MELO DA SILVA</td>\n",
       "      <td>Unknown</td>\n",
       "    </tr>\n",
       "    <tr>\n",
       "      <th>6142</th>\n",
       "      <td>6142</td>\n",
       "      <td>WOUBER HERICKSON DE BRITO VIEIRA</td>\n",
       "      <td>Unknown</td>\n",
       "    </tr>\n",
       "    <tr>\n",
       "      <th>6146</th>\n",
       "      <td>6146</td>\n",
       "      <td>YANAK FERREIRA DA SILVA</td>\n",
       "      <td>Unknown</td>\n",
       "    </tr>\n",
       "    <tr>\n",
       "      <th>6154</th>\n",
       "      <td>6154</td>\n",
       "      <td>YULYANNA MOREIRA RODRIGUES ARAUJO</td>\n",
       "      <td>Unknown</td>\n",
       "    </tr>\n",
       "    <tr>\n",
       "      <th>6166</th>\n",
       "      <td>6166</td>\n",
       "      <td>ZANKENNEDY JALES DE QUEIROZ</td>\n",
       "      <td>Unknown</td>\n",
       "    </tr>\n",
       "    <tr>\n",
       "      <th>6170</th>\n",
       "      <td>6170</td>\n",
       "      <td>ZENEWTON ANDRE DA SILVA GAMA</td>\n",
       "      <td>Unknown</td>\n",
       "    </tr>\n",
       "    <tr>\n",
       "      <th>6177</th>\n",
       "      <td>6177</td>\n",
       "      <td>ZIVANILSON TEIXEIRA E SILVA</td>\n",
       "      <td>Unknown</td>\n",
       "    </tr>\n",
       "    <tr>\n",
       "      <th>6179</th>\n",
       "      <td>6179</td>\n",
       "      <td>ZORANO SERGIO DE SOUZA</td>\n",
       "      <td>Unknown</td>\n",
       "    </tr>\n",
       "    <tr>\n",
       "      <th>6180</th>\n",
       "      <td>6180</td>\n",
       "      <td>ZULAMAR DE SALES BARBALHO</td>\n",
       "      <td>Unknown</td>\n",
       "    </tr>\n",
       "  </tbody>\n",
       "</table>\n",
       "<p>200 rows × 3 columns</p>\n",
       "</div>"
      ],
      "text/plain": [
       "                                                   Name   Gender\n",
       "8        8                ACYNELLY DAFNE DA SILVA NUNES  Unknown\n",
       "39      39               ADENYLZA FLAVIA ALVES DE PAIVA  Unknown\n",
       "50      50                 ADLAREG AUREA DA COSTA DUTRA  Unknown\n",
       "129    129                     AKALINE DANTAS DE ARAUJO  Unknown\n",
       "142    142                    ALBANYRA DOS SANTOS SOUZA  Unknown\n",
       "269    269                    ALTAIVA JALES COSTA SOUZA  Unknown\n",
       "282    282                  ALVESSENA ALVES DE OLIVEIRA  Unknown\n",
       "288    288            ALZIVANY ALVES DE MOURA FERNANDES  Unknown\n",
       "289    289                       AMADJA HENRIQUE BORGES  Unknown\n",
       "290    290          AMALUSIA OLIVEIRA BEZERRA DE ARAUJO  Unknown\n",
       "321    321                        AMOYSA ARAUJO RIBEIRO  Unknown\n",
       "470    470                  ANDIERISON MACEDO DE FARIAS  Unknown\n",
       "554    554        ANELLYSA PEREIRA CAVALCANTE DE ARAUJO  Unknown\n",
       "672    672             ANTONNYO PALMIELLY DIOGENES LIMA  Unknown\n",
       "676    676                          APUENA VIEIRA GOMES  Unknown\n",
       "680    680        ARETHE MARIA SILVA DE ARAUJO ASSUNCAO  Unknown\n",
       "708    708         ARRHENIUS VINICIUS DA COSTA OLIVEIRA  Unknown\n",
       "711    711                   ARTEJOSE REVOREDO DA SILVA  Unknown\n",
       "730    730  ASKERY ALEXANDRE CANABARRO BARBOSA DA SILVA  Unknown\n",
       "733    733                       AUDINEZ BARRETO ARAUJO  Unknown\n",
       "739    739                 AUNIEBSON DE OLIVEIRA FREIRE  Unknown\n",
       "743    743                   AURIGENA ANTUNES DE ARAUJO  Unknown\n",
       "746    746                    AUXINILDO DE MELO MARTINS  Unknown\n",
       "747    747       AUZELIVIA PASTORA REGO MEDEIROS FALCAO  Unknown\n",
       "766    766                       BARNORA THERESA DANTAS  Unknown\n",
       "818    818               BRUNILLA THAIS QUEIROZ DE MELO  Unknown\n",
       "1028  1028                      CHIANC LEOCADIO DE LIMA  Unknown\n",
       "1034  1034              CHRISTOMYSLLEY ROMEIRO DA SILVA  Unknown\n",
       "1049  1049                       CICLAMIO LEITE BARRETO  Unknown\n",
       "1051  1051                    CIJARA LEONICE DE FREITAS  Unknown\n",
       "...    ...                                          ...      ...\n",
       "5673  5673              SISLLEY MADSON DA SILVA BARRETO  Unknown\n",
       "5680  5680                         SONAYDY LYANY DANTAS  Unknown\n",
       "5681  5681              SONEMY VIEIRA DE ASSUNCAO PAIVA  Unknown\n",
       "5689  5689                      SORANEIDE SOARES DANTAS  Unknown\n",
       "5700  5700                  STHONE ARRUDA NEVES RAMALHO  Unknown\n",
       "5701  5701         SUEILHA FERREIRA DE ANDRADE DE PAULA  Unknown\n",
       "5724  5724               SUZERICA HELENA DE MOURA MAFRA  Unknown\n",
       "5731  5731               TAANAKE MATHIAS SOARES BATISTA  Unknown\n",
       "5758  5758                      TANIRO CHACON RODRIGUES  Unknown\n",
       "5760  5760              TARCIRO NORTARSON CHAVES MENDES  Unknown\n",
       "5839  5839      THAZIO HENRIQUE SOARES CARDOSO DE SOUZA  Unknown\n",
       "5840  5840                THECYUS BENICIO NUNES DE MELO  Unknown\n",
       "5909  5909     UILIETE MARCIA SILVA DE MENDONCA PEREIRA  Unknown\n",
       "5949  5949                 VALTEMIA PORPINO GOMES COSTA  Unknown\n",
       "5953  5953                       VANCI DA COSTA MARTINS  Unknown\n",
       "5958  5958                             VANDINER RIBEIRO  Unknown\n",
       "6061  6061                      WADLEIGHN ALVES SARAIVA  Unknown\n",
       "6069  6069            WALANNE KARLA CAMPOS DUARTE COSTA  Unknown\n",
       "6080  6080                WALNESIA DUARTE DO NASCIMENTO  Unknown\n",
       "6081  6081               WALTECA LOUIS LIMA DA SILVEIRA  Unknown\n",
       "6120  6120             WILACI EUTROPIO FERNANDES JUNIOR  Unknown\n",
       "6139  6139                     WILSYNNARA MELO DA SILVA  Unknown\n",
       "6142  6142             WOUBER HERICKSON DE BRITO VIEIRA  Unknown\n",
       "6146  6146                      YANAK FERREIRA DA SILVA  Unknown\n",
       "6154  6154            YULYANNA MOREIRA RODRIGUES ARAUJO  Unknown\n",
       "6166  6166                  ZANKENNEDY JALES DE QUEIROZ  Unknown\n",
       "6170  6170                 ZENEWTON ANDRE DA SILVA GAMA  Unknown\n",
       "6177  6177                  ZIVANILSON TEIXEIRA E SILVA  Unknown\n",
       "6179  6179                       ZORANO SERGIO DE SOUZA  Unknown\n",
       "6180  6180                    ZULAMAR DE SALES BARBALHO  Unknown\n",
       "\n",
       "[200 rows x 3 columns]"
      ]
     },
     "execution_count": 180,
     "metadata": {},
     "output_type": "execute_result"
    }
   ],
   "source": [
    "names_unclassified = UFRN_employess_name[(UFRN_employess_name['Gender'] == 'Unknown')]\n",
    "names_unclassified"
   ]
  },
  {
   "cell_type": "markdown",
   "metadata": {},
   "source": [
    "### 4. Results and Conclusion"
   ]
  },
  {
   "cell_type": "markdown",
   "metadata": {},
   "source": [
    "After using **genderBR** and **Gender API** to predict the gender of all UFRN employees'name, we got the following result:\n",
    "\n",
    "- Male:       3091\n",
    "- Female:     2892\n",
    "- Unknown:     200\n",
    "\n",
    "In order to have a better interpretation, we can analyze this result using the following graphs:"
   ]
  },
  {
   "cell_type": "code",
   "execution_count": 183,
   "metadata": {},
   "outputs": [
    {
     "data": {
      "text/plain": [
       "<matplotlib.axes._subplots.AxesSubplot at 0x1a17895128>"
      ]
     },
     "execution_count": 183,
     "metadata": {},
     "output_type": "execute_result"
    },
    {
     "data": {
      "image/png": "[encoded data removed]",
      "text/plain": [
       "<matplotlib.figure.Figure at 0x1a1790a0b8>"
      ]
     },
     "metadata": {},
     "output_type": "display_data"
    }
   ],
   "source": [
    "%matplotlib inline\n",
    "UFRN_employess_name.Gender.value_counts().plot(kind='bar')\n"
   ]
  },
  {
   "cell_type": "code",
   "execution_count": 196,
   "metadata": {},
   "outputs": [
    {
     "data": {
      "text/plain": [
       "<matplotlib.axes._subplots.AxesSubplot at 0x1a18078588>"
      ]
     },
     "execution_count": 196,
     "metadata": {},
     "output_type": "execute_result"
    },
    {
     "data": {
      "image/png": "[encoded data removed]",
      "text/plain": [
       "<matplotlib.figure.Figure at 0x1a17fdb358>"
      ]
     },
     "metadata": {},
     "output_type": "display_data"
    }
   ],
   "source": [
    "UFRN_employess_name.Gender.value_counts().plot(kind='pie', autopct='%1.1f%%', shadow=True, startangle=90)"
   ]
  },
  {
   "cell_type": "markdown",
   "metadata": {},
   "source": [
    "The analysis shows that the number of women and men in the UFRN is quite proportional, even when we consider the percentage of names without classification."
   ]
  },
  {
   "cell_type": "code",
   "execution_count": null,
   "metadata": {
    "collapsed": true
   },
   "outputs": [],
   "source": []
  }
 ],
 "metadata": {
  "kernelspec": {
   "display_name": "Python 3",
   "language": "python",
   "name": "python3"
  },
  "language_info": {
   "codemirror_mode": {
    "name": "ipython",
    "version": 3
   },
   "file_extension": ".py",
   "mimetype": "text/x-python",
   "name": "python",
   "nbconvert_exporter": "python",
   "pygments_lexer": "ipython3",
   "version": "3.6.3"
  }
 },
 "nbformat": 4,
 "nbformat_minor": 2
}
