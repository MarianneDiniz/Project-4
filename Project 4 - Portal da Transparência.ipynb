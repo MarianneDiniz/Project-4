{
 "cells": [
  {
   "cell_type": "markdown",
   "metadata": {},
   "source": [
    "### <center>Universidade Federal do Rio Grande do Norte<br>Programa de Pós-Graduação em Engenharia Elétrica e Computação<br>Module: Data Science (Tópicos Especiais F)<br>Professor Ivanovitch Silva\n",
    "\n",
    "### <center> Students: Marianne Diniz / Taline Nóbrega"
   ]
  },
  {
   "cell_type": "markdown",
   "metadata": {},
   "source": [
    "## <center> Project 4: Portal da Transparência"
   ]
  },
  {
   "cell_type": "markdown",
   "metadata": {},
   "source": [
    "## 1. Introduction\n",
    "\n",
    "This is a guided project focused on scrapping multiple web pages with Python using [BeautifulSoup](https://www.crummy.com/software/BeautifulSoup/) and [requests](http://docs.python-requests.org/en/master/). It was also performed some simple analysis using [pandas](http://pandas.pydata.org/), and [seaborn](https://seaborn.pydata.org/)."
   ]
  },
  {
   "cell_type": "markdown",
   "metadata": {},
   "source": [
    "## 2. Objectives\n",
    "\n",
    "This project aims to analyze the gender of all UFRN employees' name by web scraping the list presented on [Portal da Transparência](http://www.portaldatransparencia.gov.br/) website. Portal da Transparência is a Brazilian government portal dedicated to making public all expenditures of the federal government. It has a list of all expenses and money transfers the federal government has made. \n",
    "In order to classify the names into 'male' and 'female', it was suggested to use some applications/API/packages, which are discussed and presented in the following sections."
   ]
  },
  {
   "cell_type": "markdown",
   "metadata": {},
   "source": [
    "## 3. Code"
   ]
  },
  {
   "cell_type": "markdown",
   "metadata": {},
   "source": [
    "### 3.1 Collecting the list of names using web scraping tools"
   ]
  },
  {
   "cell_type": "markdown",
   "metadata": {},
   "source": [
    "The data used in this project was obtained from web scraping Portal da Transferência webpage. In order to satisfy the objectives, the page analyzed was that present the list of employees who work at UFRN (Universidade Federal do Rio Grande do Norte). Available on this [link](http://www.portaldatransparencia.gov.br/servidores/OrgaoExercicio-ListaServidores.asp?CodOrg=26243). This page provides a list of all UFRN's employees, which results in 6183 people. The employee's names are distributed in **413 pages**\n",
    "This web scraping should result in a list of names. The following code pretends to do that."
   ]
  },
  {
   "cell_type": "code",
   "execution_count": null,
   "metadata": {},
   "outputs": [],
   "source": [
    "from bs4 import BeautifulSoup\n",
    "from time import sleep\n",
    "from random import randint\n",
    "from time import time\n",
    "from warnings import warn\n",
    "from IPython.core.display import clear_output\n",
    "from requests import get\n",
    "import pandas as pd\n",
    "import rpy2.robjects as robjects\n",
    "import requests as requests\n",
    "import matplotlib.pyplot as plt"
   ]
  },
  {
   "cell_type": "code",
   "execution_count": null,
   "metadata": {},
   "outputs": [],
   "source": [
    "pages = [str(i) for i in range(1,414)] # number of pages - 413\n",
    "\n",
    "# List to store the scraped data in\n",
    "names = []\n",
    "\n",
    "# Preparing the monitoring of the loop\n",
    "start_time = time()\n",
    "requests = 0\n",
    "\n",
    "# For each page\n",
    "for page in pages:\n",
    "      \n",
    "    #url \n",
    "    url = 'http://www.portaldatransparencia.gov.br/servidores/\\\n",
    "           OrgaoExercicio-ListaServidores.asp?CodOrg=26243&Pagina={}'.format(page).replace(\" \", \"\")\n",
    "        \n",
    "    # Make a get request\n",
    "    response = get(url)\n",
    "        \n",
    "    # Pause the loop\n",
    "    #\n",
    "    \n",
    "    # Monitor the requests - Controlling the loop’s rate to avoid bombarding the server with requests\n",
    "    requests += 1\n",
    "    elapsed_time = time() - start_time\n",
    "    print('Request:{}; Frequency: {} requests/s'.format(requests, requests/elapsed_time))\n",
    "    clear_output(wait = True)\n",
    "              \n",
    "    # Throw a warning for non-200 status codes\n",
    "    while response.status_code != 200:\n",
    "        warn('Request: {}; Status code: {}'.format(requests, response.status_code))\n",
    "        sleep(randint(5,10))\n",
    "        response = request.get(url)\n",
    "    \n",
    "    sleep(randint(5,10))    \n",
    "    html_soup = BeautifulSoup(response.text, 'html.parser')\n",
    "    unit_table = html_soup.find_all('table')\n",
    "\n",
    "    # the second one is the target\n",
    "    unit_rows  = unit_table[1].find_all('tr')\n",
    "    unit_rows = unit_rows[1:]\n",
    "    \n",
    "    # Extract data from individual ies rows\n",
    "    for row in unit_rows:\n",
    "        # employees' names\n",
    "        name = row.find('a')\n",
    "        if name is not None:\n",
    "            name = name.text.strip()\n",
    "            names.append(name)"
   ]
  },
  {
   "cell_type": "code",
   "execution_count": null,
   "metadata": {},
   "outputs": [],
   "source": [
    "# Checking the data collected\n",
    "web_scraping_df = pd.DataFrame({'UFRN_employees_name': names})\n",
    "print(web_scraping_df.info())"
   ]
  },
  {
   "cell_type": "code",
   "execution_count": null,
   "metadata": {},
   "outputs": [],
   "source": [
    "# Creating a csv file with the data collected \n",
    "web_scraping_df.to_csv('UFRN_employees_name.csv')"
   ]
  },
  {
   "cell_type": "markdown",
   "metadata": {},
   "source": [
    "### 3.2 Defining the gender of the name"
   ]
  },
  {
   "cell_type": "markdown",
   "metadata": {
    "collapsed": true
   },
   "source": [
    "So, after web scraping Portal da Trasnparência website we have all UFRN employees name organized in a list of 6138 names. To verify which name corresponds to a female or male name, we need to use some tool. The activity proposed the following options. Each one has their specific advantage.\n",
    "\n",
    "    - https://www.dicionariodenomesproprios.com.br/\n",
    "    - https://gender-api.com/\n",
    "    - https://pypi.python.org/pypi/Genderize\n",
    "    - http://fmeireles.com/blog/rstats/genderbr-predizer-sexo\n",
    "\n",
    "After analyzing all options, we decided to use the package called [genderBR](http://fmeireles.com/blog/rstats/genderbr-predizer-sexo) using [RStudio](https://anaconda.org/r/rstudio) application.\n",
    "\n",
    "The genderBR package for R is useful to predict the sex of a person using their proper name. This prediction is based on [IBGE](https://www.ibge.gov.br) Census conducted in 2010 and it works as the following example: according to the Census the name João is mostly used by men in Brazil, so we are confident that all people named João are men. Therefore, we can consider the name João as a male name.\n",
    "\n",
    "This method is replicable, based on public data and it is much faster than manual classification. Thus, it was our first choice to predict the gender of the names."
   ]
  },
  {
   "cell_type": "markdown",
   "metadata": {},
   "source": [
    "   ### 3.2.1 Using R with Jupyter [genderBR]\n",
    "   \n",
    "In order to use genderBR package it is necessary to run R in Jupyter.There are two general ways to get started on using R with Jupyter: by using a kernel or by setting up an R environment that has all the essential tools to get started on doing data science. These processes are described in this interesting [post](https://www.datacamp.com/community/blog/jupyter-notebook-r).\n",
    "\n",
    "Basically, after installing all packages we installed RStudio through Anaconda and genderBR through RStudio console. Then, we were able to run R commands. \n",
    "\n",
    "To switch from Python to R, we downloaded the following package:"
   ]
  },
  {
   "cell_type": "code",
   "execution_count": null,
   "metadata": {},
   "outputs": [],
   "source": [
    "# it's necessary to import rpy2.robjects as robjects to load this package\n",
    "%load_ext rpy2.ipython "
   ]
  },
  {
   "cell_type": "markdown",
   "metadata": {},
   "source": [
    "After that, we easily switched from Python to R with the **%R** magic command.\n",
    "\n",
    "Loading genderBR package:"
   ]
  },
  {
   "cell_type": "code",
   "execution_count": null,
   "metadata": {},
   "outputs": [],
   "source": [
    "%%R\n",
    "library(genderBR)"
   ]
  },
  {
   "cell_type": "markdown",
   "metadata": {},
   "source": [
    "The genderBR package has a main function called **get_gender** that predicts the gender of a person based on their first name (with or without capital letters, accents and last names).\n",
    "\n",
    "Using get_gender function to analyze the list of names that we got previously"
   ]
  },
  {
   "cell_type": "code",
   "execution_count": null,
   "metadata": {},
   "outputs": [],
   "source": [
    "# Reading the csv file\n",
    "UFRN_employess_name = pd.read_csv('UFRN_employees_name.csv')\n",
    "# Renaming the columns \n",
    "UFRN_employess_name.columns = ['','Name']\n",
    "# Creating a list to append the guessed gender\n",
    "guessed_gender = [] \n",
    "i=0\n",
    "for name in UFRN_employess_name.Name:\n",
    "    gender = robjects.r.get_gender(name)\n",
    "    gender = gender.r_repr()\n",
    "    gender = gender.strip('\\\"')\n",
    "    guessed_gender.append(gender) \n",
    "\n",
    "# Creating a new column named Gender\n",
    "UFRN_employess_name ['Gender'] = 0\n",
    "# Appending guessed_gender to the new column\n",
    "UFRN_employess_name.Gender = guessed_gender"
   ]
  },
  {
   "cell_type": "markdown",
   "metadata": {},
   "source": [
    "Analyzing the result obtained from get_gender function"
   ]
  },
  {
   "cell_type": "code",
   "execution_count": null,
   "metadata": {},
   "outputs": [],
   "source": [
    "UFRN_employess_name"
   ]
  },
  {
   "cell_type": "markdown",
   "metadata": {},
   "source": [
    "Verifying how many male and female the function get_gender returned"
   ]
  },
  {
   "cell_type": "code",
   "execution_count": null,
   "metadata": {
    "collapsed": true
   },
   "outputs": [],
   "source": [
    "UFRN_employess_name.Gender.value_counts()"
   ]
  },
  {
   "cell_type": "markdown",
   "metadata": {},
   "source": [
    "The results were quite good. 3019 names were classified as male name and 2825 were considered a female name. Only 339 names did not receive any classification.\n",
    "\n",
    "### 3.2.2 Using Gender API\n",
    "\n",
    "In order to perform a better analysis and to reduce the quantity of names without classification, it was applied other classification method. From the options presented previously, we decided to use [Gender API](https://gender-api.com/). This API allows us to perform 500 requests per month by using a private server key. So, we could apply it to verify the 339 names without classification."
   ]
  },
  {
   "cell_type": "code",
   "execution_count": null,
   "metadata": {},
   "outputs": [],
   "source": [
    "# Creating a list with all names without classification\n",
    "names_NA = UFRN_employess_name[(UFRN_employess_name['Gender']=='NA')|(UFRN_employess_name['Gender']=='NA_character_')]\n",
    "\n",
    "# Splitting the name. Gender API just recognize one name\n",
    "first_name = []\n",
    "for i in range (0,339):\n",
    "    fn = names_NA.Name.iloc[i].split()[0]\n",
    "    first_name.append(fn)\n",
    "\n",
    "# Using Gender API to classify the names in first_name list    \n",
    "# key = HQsGtBZeRMkTzqLEf\n",
    "gender_api=[]\n",
    "for n in first_name:\n",
    "    r = requests.get('https://gender-api.com/get?name={}&country=BR&key=xHQsGtBZeRMkTzqLEf'.format(n)).json().get('gender')\n",
    "    r = r.capitalize()\n",
    "    gender_api.append(r)\n",
    "\n",
    "# Associating the results obtained to names_NA\n",
    "names_NA.Gender = gender_api"
   ]
  },
  {
   "cell_type": "code",
   "execution_count": null,
   "metadata": {
    "collapsed": true
   },
   "outputs": [],
   "source": [
    "names_NA.Gender.value_counts()"
   ]
  },
  {
   "cell_type": "code",
   "execution_count": null,
   "metadata": {},
   "outputs": [],
   "source": [
    "# Aggregating the content of names_NA into our main dataframe UFRN_employess_name\n",
    "names_NA = UFRN_employess_name[(UFRN_employess_name['Gender']=='NA')|(UFRN_employess_name['Gender']=='NA_character_')]\n",
    "\n",
    "for i in range (0,6183):\n",
    "    if (UFRN_employess_name.Gender.iloc[i] == 'NA')|(UFRN_employess_name.Gender.iloc[i] =='NA_character_'):\n",
    "        gender_api = names_NA.Gender.loc[i]\n",
    "        UFRN_employess_name.Gender.loc[i] = gender_api"
   ]
  },
  {
   "cell_type": "code",
   "execution_count": null,
   "metadata": {
    "collapsed": true
   },
   "outputs": [],
   "source": [
    "UFRN_employess_name.Gender.value_counts()"
   ]
  },
  {
   "cell_type": "markdown",
   "metadata": {},
   "source": [
    "As a result, we reduced the number of unclassified names to 200 using Gender API. The names without classification is shown in the following cell."
   ]
  },
  {
   "cell_type": "code",
   "execution_count": null,
   "metadata": {
    "collapsed": true
   },
   "outputs": [],
   "source": [
    "names_unclassified = UFRN_employess_name[(UFRN_employess_name['Gender'] == 'Unknown')]\n",
    "names_unclassified"
   ]
  },
  {
   "cell_type": "markdown",
   "metadata": {},
   "source": [
    "### 4. Results and Conclusion"
   ]
  },
  {
   "cell_type": "markdown",
   "metadata": {},
   "source": [
    "After using **genderBR** and **Gender API** to predict the gender of all UFRN employees'name, we got the following result:\n",
    "\n",
    "- Male:       3091\n",
    "- Female:     2892\n",
    "- Unknown:     200\n",
    "\n",
    "In order to have a better interpretation, we can analyze this result using the following graphs:"
   ]
  },
  {
   "cell_type": "code",
   "execution_count": null,
   "metadata": {
    "collapsed": true
   },
   "outputs": [],
   "source": [
    "%matplotlib inline\n",
    "UFRN_employess_name.Gender.value_counts().plot(kind='bar')\n"
   ]
  },
  {
   "cell_type": "code",
   "execution_count": null,
   "metadata": {
    "collapsed": true
   },
   "outputs": [],
   "source": [
    "UFRN_employess_name.Gender.value_counts().plot(kind='pie', autopct='%1.1f%%', shadow=True, startangle=90)"
   ]
  },
  {
   "cell_type": "markdown",
   "metadata": {},
   "source": [
    "The analysis shows that the number of women and men in the UFRN is quite proportional, even when we consider the percentage of names without classification."
   ]
  },
  {
   "cell_type": "code",
   "execution_count": null,
   "metadata": {},
   "outputs": [],
   "source": []
  }
 ],
 "metadata": {
  "kernelspec": {
   "display_name": "Python 3",
   "language": "python",
   "name": "python3"
  },
  "language_info": {
   "codemirror_mode": {
    "name": "ipython",
    "version": 3
   },
   "file_extension": ".py",
   "mimetype": "text/x-python",
   "name": "python",
   "nbconvert_exporter": "python",
   "pygments_lexer": "ipython3",
   "version": "3.6.3"
  }
 },
 "nbformat": 4,
 "nbformat_minor": 2
}
